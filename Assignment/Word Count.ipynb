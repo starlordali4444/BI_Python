{
 "cells": [
  {
   "cell_type": "code",
   "execution_count": 9,
   "id": "64622326",
   "metadata": {},
   "outputs": [
    {
     "name": "stdout",
     "output_type": "stream",
     "text": [
      "4\n",
      "bcdef\n",
      "abcdefg\n",
      "bcde\n",
      "bcdef\n",
      "{'bcdef\\n', 'abcdefg\\n', 'bcde\\n'}\n",
      "3\n",
      "2 1 1 "
     ]
    }
   ],
   "source": [
    "n= int(input())\n",
    "words=[]\n",
    "\n",
    "while n>0:\n",
    "    word=input()+\"\\n\"\n",
    "    words.append(word)\n",
    "    n-=1\n",
    "    \n",
    "s_words=set(words)\n",
    "print(s_words)\n",
    "print(len(s_words))\n",
    "w_dict={}\n",
    "\n",
    "for s in s_words: \n",
    "    w_dict[s]=words.count(s)\n",
    "    print(w_dict[s], end =\" \")"
   ]
  }
 ],
 "metadata": {
  "kernelspec": {
   "display_name": "Python 3",
   "language": "python",
   "name": "python3"
  },
  "language_info": {
   "codemirror_mode": {
    "name": "ipython",
    "version": 3
   },
   "file_extension": ".py",
   "mimetype": "text/x-python",
   "name": "python",
   "nbconvert_exporter": "python",
   "pygments_lexer": "ipython3",
   "version": "3.8.8"
  }
 },
 "nbformat": 4,
 "nbformat_minor": 5
}
