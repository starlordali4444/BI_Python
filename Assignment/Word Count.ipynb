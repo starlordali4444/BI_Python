{
 "cells": [
  {
   "cell_type": "code",
   "execution_count": 3,
   "id": "598c86c5",
   "metadata": {},
   "outputs": [
    {
     "name": "stdout",
     "output_type": "stream",
     "text": [
      "Enter no of words.5\n"
     ]
    }
   ],
   "source": [
    "n= int(input(\"Enter no of words.\"))\n",
    "words=[]\n",
    "no=1"
   ]
  },
  {
   "cell_type": "code",
   "execution_count": 4,
   "id": "55b30a94",
   "metadata": {},
   "outputs": [
    {
     "name": "stdout",
     "output_type": "stream",
     "text": [
      "Enter 1 word:\n",
      "qq\n",
      "Enter 2 word:\n",
      "q\n",
      "Enter 3 word:\n",
      "qwe\n",
      "Enter 4 word:\n",
      "qw\n",
      "Enter 5 word:\n",
      "qw\n"
     ]
    }
   ],
   "source": [
    "while n>0:\n",
    "    print(\"Enter\", no ,\"word:\")\n",
    "    words.extend(input())\n",
    "    no+=1\n",
    "    n-=1"
   ]
  }
 ],
 "metadata": {
  "kernelspec": {
   "display_name": "Python 3",
   "language": "python",
   "name": "python3"
  },
  "language_info": {
   "codemirror_mode": {
    "name": "ipython",
    "version": 3
   },
   "file_extension": ".py",
   "mimetype": "text/x-python",
   "name": "python",
   "nbconvert_exporter": "python",
   "pygments_lexer": "ipython3",
   "version": "3.8.8"
  }
 },
 "nbformat": 4,
 "nbformat_minor": 5
}
