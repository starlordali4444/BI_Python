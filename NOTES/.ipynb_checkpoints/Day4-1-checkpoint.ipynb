{
 "cells": [
  {
   "cell_type": "markdown",
   "metadata": {},
   "source": [
    "# Loops"
   ]
  },
  {
   "cell_type": "code",
   "execution_count": null,
   "metadata": {},
   "outputs": [],
   "source": [
    "1. for loop\n",
    "2. while loop"
   ]
  },
  {
   "cell_type": "markdown",
   "metadata": {},
   "source": [
    "# 1. for loop\n"
   ]
  },
  {
   "cell_type": "code",
   "execution_count": null,
   "metadata": {},
   "outputs": [],
   "source": [
    "syntax:\n",
    "    \n",
    "    \n",
    "for variableName in collection:\n",
    "    #code that I want to run repeatedly (block of code)"
   ]
  },
  {
   "cell_type": "code",
   "execution_count": null,
   "metadata": {},
   "outputs": [],
   "source": [
    "The block of code should follow some guidelines:\n",
    "1. The block of code should atleast have one line of code within it.\n",
    "2. All the lines in the block of code, should have some space (indentation) before it.\n",
    "3. All the lines in the block of code, should have the same space (indentation) before it.\n",
    "4. The block of code will only run, only when the specified variable in the for loop header, has a new value assigned to it"
   ]
  },
  {
   "cell_type": "code",
   "execution_count": 1,
   "metadata": {},
   "outputs": [
    {
     "name": "stdout",
     "output_type": "stream",
     "text": [
      "Start of Round\n",
      "11\n",
      "End of Round\n",
      "Start of Round\n",
      "22\n",
      "End of Round\n",
      "Start of Round\n",
      "33\n",
      "End of Round\n"
     ]
    }
   ],
   "source": [
    "for k in [11,22,33]:\n",
    "    print(\"Start of Round\")\n",
    "    print(k)\n",
    "    print(\"End of Round\")\n",
    "    "
   ]
  },
  {
   "cell_type": "code",
   "execution_count": null,
   "metadata": {},
   "outputs": [],
   "source": [
    "syntax:\n",
    "    \n",
    "    \n",
    "for variableName in collection:\n",
    "    #code that I want to run repeatedly (block of code)"
   ]
  },
  {
   "cell_type": "code",
   "execution_count": 2,
   "metadata": {},
   "outputs": [
    {
     "ename": "TypeError",
     "evalue": "'int' object is not iterable",
     "output_type": "error",
     "traceback": [
      "\u001b[1;31m---------------------------------------------------------------------------\u001b[0m",
      "\u001b[1;31mTypeError\u001b[0m                                 Traceback (most recent call last)",
      "\u001b[1;32m<ipython-input-2-50877fd3e376>\u001b[0m in \u001b[0;36m<module>\u001b[1;34m\u001b[0m\n\u001b[1;32m----> 1\u001b[1;33m \u001b[1;32mfor\u001b[0m \u001b[0mk\u001b[0m \u001b[1;32min\u001b[0m \u001b[1;36m22\u001b[0m\u001b[1;33m:\u001b[0m\u001b[1;33m\u001b[0m\u001b[1;33m\u001b[0m\u001b[0m\n\u001b[0m\u001b[0;32m      2\u001b[0m     \u001b[0mprint\u001b[0m\u001b[1;33m(\u001b[0m\u001b[1;34m\"Start of Round\"\u001b[0m\u001b[1;33m)\u001b[0m\u001b[1;33m\u001b[0m\u001b[1;33m\u001b[0m\u001b[0m\n\u001b[0;32m      3\u001b[0m     \u001b[0mprint\u001b[0m\u001b[1;33m(\u001b[0m\u001b[0mk\u001b[0m\u001b[1;33m)\u001b[0m\u001b[1;33m\u001b[0m\u001b[1;33m\u001b[0m\u001b[0m\n\u001b[0;32m      4\u001b[0m     \u001b[0mprint\u001b[0m\u001b[1;33m(\u001b[0m\u001b[1;34m\"End of Round\"\u001b[0m\u001b[1;33m)\u001b[0m\u001b[1;33m\u001b[0m\u001b[1;33m\u001b[0m\u001b[0m\n\u001b[0;32m      5\u001b[0m \u001b[1;33m\u001b[0m\u001b[0m\n",
      "\u001b[1;31mTypeError\u001b[0m: 'int' object is not iterable"
     ]
    }
   ],
   "source": [
    "for k in 22:\n",
    "    print(\"Start of Round\")\n",
    "    print(k)\n",
    "    print(\"End of Round\")\n",
    "    "
   ]
  },
  {
   "cell_type": "code",
   "execution_count": 3,
   "metadata": {},
   "outputs": [
    {
     "name": "stdout",
     "output_type": "stream",
     "text": [
      "Start of Round\n",
      "a\n",
      "End of Round\n",
      "Start of Round\n",
      "b\n",
      "End of Round\n",
      "Start of Round\n",
      "c\n",
      "End of Round\n"
     ]
    }
   ],
   "source": [
    "for k in \"abc\":\n",
    "    print(\"Start of Round\")\n",
    "    print(k)\n",
    "    print(\"End of Round\")\n",
    "    "
   ]
  },
  {
   "cell_type": "code",
   "execution_count": null,
   "metadata": {},
   "outputs": [],
   "source": [
    "syntax:\n",
    "    \n",
    "    \n",
    "for variableName in collection:\n",
    "    #code that I want to run repeatedly (block of code)"
   ]
  },
  {
   "cell_type": "code",
   "execution_count": null,
   "metadata": {},
   "outputs": [],
   "source": [
    "The block of code should follow some guidelines:\n",
    "1. The block of code should atleast have one line of code within it.\n",
    "2. All the lines in the block of code, should have some space (indentation) before it.\n",
    "3. All the lines in the block of code, should have the same space (indentation) before it.\n",
    "4. The block of code will only run, only when the specified variable in the for loop header, has a new value assigned to it"
   ]
  },
  {
   "cell_type": "code",
   "execution_count": 4,
   "metadata": {},
   "outputs": [
    {
     "ename": "IndentationError",
     "evalue": "unexpected indent (<ipython-input-4-66deee47f9b7>, line 3)",
     "output_type": "error",
     "traceback": [
      "\u001b[1;36m  File \u001b[1;32m\"<ipython-input-4-66deee47f9b7>\"\u001b[1;36m, line \u001b[1;32m3\u001b[0m\n\u001b[1;33m    print(k)\u001b[0m\n\u001b[1;37m    ^\u001b[0m\n\u001b[1;31mIndentationError\u001b[0m\u001b[1;31m:\u001b[0m unexpected indent\n"
     ]
    }
   ],
   "source": [
    "for k in [11,22,33]:\n",
    "    print(\"Start of Round\")\n",
    "        print(k)\n",
    "    print(\"End of Round\")\n",
    "    "
   ]
  },
  {
   "cell_type": "code",
   "execution_count": 5,
   "metadata": {},
   "outputs": [
    {
     "name": "stdout",
     "output_type": "stream",
     "text": [
      "Start of Round\n",
      "11\n",
      "End of Round\n",
      "Start of Round\n",
      "22\n",
      "End of Round\n",
      "Start of Round\n",
      "33\n",
      "End of Round\n"
     ]
    }
   ],
   "source": [
    "for k in [11,22,33]:\n",
    "                                                                                    print(\"Start of Round\")\n",
    "                                                                                    print(k)\n",
    "                                                                                    print(\"End of Round\")\n",
    "    "
   ]
  },
  {
   "cell_type": "markdown",
   "metadata": {},
   "source": [
    "# 2. while loop"
   ]
  },
  {
   "cell_type": "code",
   "execution_count": null,
   "metadata": {},
   "outputs": [],
   "source": [
    "syntax:\n",
    "    \n",
    "    \n",
    "    \n",
    "while booleanValue:\n",
    "    #code that I want to run repeatedly (block of code)\n",
    "    "
   ]
  },
  {
   "cell_type": "markdown",
   "metadata": {},
   "source": [
    "The block of code should follow some guidelines:\n",
    "1. The block of code should atleast have one line of code within it.\n",
    "2. All the lines in the block of code, should have some space (indentation) before it.\n",
    "3. All the lines in the block of code, should have the same space (indentation) before it.\n",
    "4. The block of code will only run, only when the specified booleanValue in the while loop header, has a True value assigned to it"
   ]
  }
 ],
 "metadata": {
  "kernelspec": {
   "display_name": "Python 3",
   "language": "python",
   "name": "python3"
  },
  "language_info": {
   "codemirror_mode": {
    "name": "ipython",
    "version": 3
   },
   "file_extension": ".py",
   "mimetype": "text/x-python",
   "name": "python",
   "nbconvert_exporter": "python",
   "pygments_lexer": "ipython3",
   "version": "3.8.8"
  }
 },
 "nbformat": 4,
 "nbformat_minor": 4
}
