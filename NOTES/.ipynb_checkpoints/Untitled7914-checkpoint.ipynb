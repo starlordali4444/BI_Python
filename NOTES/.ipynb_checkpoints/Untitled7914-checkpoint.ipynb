{
 "cells": [
  {
   "cell_type": "markdown",
   "metadata": {},
   "source": [
    "# Object oriented  Programming"
   ]
  },
  {
   "cell_type": "code",
   "execution_count": null,
   "metadata": {},
   "outputs": [],
   "source": [
    "You can create our own guidelines/ rules/ blueprint (class)"
   ]
  },
  {
   "cell_type": "code",
   "execution_count": 1,
   "metadata": {},
   "outputs": [],
   "source": [
    "a=2"
   ]
  },
  {
   "cell_type": "code",
   "execution_count": 2,
   "metadata": {},
   "outputs": [
    {
     "name": "stdout",
     "output_type": "stream",
     "text": [
      "<class 'int'>\n"
     ]
    }
   ],
   "source": [
    "print(type(a))"
   ]
  },
  {
   "cell_type": "code",
   "execution_count": null,
   "metadata": {},
   "outputs": [],
   "source": [
    "syntax:\n",
    "    \n",
    "    \n",
    "class className (names of classes that you want to copy):\n",
    "    #blockOfCode"
   ]
  },
  {
   "cell_type": "code",
   "execution_count": null,
   "metadata": {},
   "outputs": [],
   "source": [
    "reusable code\n",
    "1. Function : the reusable code that is outside of a class\n",
    "2. Method   : the reusable code that is inside of a class"
   ]
  },
  {
   "cell_type": "markdown",
   "metadata": {},
   "source": [
    "types of methods:\n",
    "1. Non-constructor method: a) assign a method name apart from __init__\n",
    "                           b) Inorder to run the code inside the non-constructor method, you have to call the class, and then using the object call the non-constructor method\n",
    "2. Constructor method    : a) assign a method name of __init__\n",
    "                            b) Inorder to run the code inside the constructor method, you have to call the class"
   ]
  },
  {
   "cell_type": "code",
   "execution_count": null,
   "metadata": {},
   "outputs": [],
   "source": [
    "object- when you call the class, the class id that is returned is called a object"
   ]
  },
  {
   "cell_type": "code",
   "execution_count": null,
   "metadata": {},
   "outputs": [],
   "source": [
    "All methods need to have a parameter called self\n",
    "1. It helps to operate on the object\n",
    "2. It helps to access the class variable"
   ]
  },
  {
   "cell_type": "code",
   "execution_count": null,
   "metadata": {},
   "outputs": [],
   "source": [
    "The blocks of code for all the statements should follow some guidelines\n",
    "1. My block of code should atleast have one line of code within it\n",
    "2. All the lines in the block of code should have some space before it\n",
    "3. All the lines in the block of code should have the same space before it"
   ]
  },
  {
   "cell_type": "code",
   "execution_count": null,
   "metadata": {},
   "outputs": [],
   "source": [
    "While calling the class follow the below syntax:\n",
    "    \n",
    "className(values for parameters in constructor method)"
   ]
  },
  {
   "cell_type": "code",
   "execution_count": 7,
   "metadata": {},
   "outputs": [],
   "source": [
    "class ABC :\n",
    "    def sample(self):\n",
    "        print(\"Executing code in method\")\n",
    "    "
   ]
  },
  {
   "cell_type": "code",
   "execution_count": null,
   "metadata": {},
   "outputs": [],
   "source": []
  },
  {
   "cell_type": "code",
   "execution_count": 8,
   "metadata": {},
   "outputs": [],
   "source": [
    "object=ABC()"
   ]
  },
  {
   "cell_type": "code",
   "execution_count": 9,
   "metadata": {},
   "outputs": [
    {
     "name": "stdout",
     "output_type": "stream",
     "text": [
      "Executing code in method\n"
     ]
    }
   ],
   "source": [
    "object.sample()"
   ]
  },
  {
   "cell_type": "code",
   "execution_count": null,
   "metadata": {},
   "outputs": [],
   "source": [
    "syntax:\n",
    "    \n",
    "    \n",
    "class className (names of classes that you want to copy):\n",
    "    #blockOfCode"
   ]
  },
  {
   "cell_type": "code",
   "execution_count": 10,
   "metadata": {},
   "outputs": [],
   "source": [
    "class test1:\n",
    "    def method1(self):\n",
    "        print(\"Executing code in method 1\")"
   ]
  },
  {
   "cell_type": "code",
   "execution_count": 11,
   "metadata": {},
   "outputs": [],
   "source": [
    "class test2:\n",
    "    def method2(self):\n",
    "        print(\"Executing code in method 2\")"
   ]
  },
  {
   "cell_type": "code",
   "execution_count": 12,
   "metadata": {},
   "outputs": [],
   "source": [
    "class test3(test1,test2):\n",
    "    def method3(self):\n",
    "        print(\"Executing code in method 3\")"
   ]
  },
  {
   "cell_type": "code",
   "execution_count": 13,
   "metadata": {},
   "outputs": [],
   "source": [
    "object1=test1()"
   ]
  },
  {
   "cell_type": "code",
   "execution_count": 14,
   "metadata": {},
   "outputs": [
    {
     "name": "stdout",
     "output_type": "stream",
     "text": [
      "Executing code in method 1\n"
     ]
    }
   ],
   "source": [
    "object1.method1()"
   ]
  },
  {
   "cell_type": "code",
   "execution_count": 15,
   "metadata": {},
   "outputs": [
    {
     "ename": "AttributeError",
     "evalue": "'test1' object has no attribute 'method2'",
     "output_type": "error",
     "traceback": [
      "\u001b[1;31m---------------------------------------------------------------------------\u001b[0m",
      "\u001b[1;31mAttributeError\u001b[0m                            Traceback (most recent call last)",
      "\u001b[1;32m<ipython-input-15-6b4cf702e3cd>\u001b[0m in \u001b[0;36m<module>\u001b[1;34m\u001b[0m\n\u001b[1;32m----> 1\u001b[1;33m \u001b[0mobject1\u001b[0m\u001b[1;33m.\u001b[0m\u001b[0mmethod2\u001b[0m\u001b[1;33m(\u001b[0m\u001b[1;33m)\u001b[0m\u001b[1;33m\u001b[0m\u001b[1;33m\u001b[0m\u001b[0m\n\u001b[0m",
      "\u001b[1;31mAttributeError\u001b[0m: 'test1' object has no attribute 'method2'"
     ]
    }
   ],
   "source": [
    "object1.method2()"
   ]
  },
  {
   "cell_type": "code",
   "execution_count": 16,
   "metadata": {},
   "outputs": [
    {
     "ename": "AttributeError",
     "evalue": "'test1' object has no attribute 'method3'",
     "output_type": "error",
     "traceback": [
      "\u001b[1;31m---------------------------------------------------------------------------\u001b[0m",
      "\u001b[1;31mAttributeError\u001b[0m                            Traceback (most recent call last)",
      "\u001b[1;32m<ipython-input-16-1cca4f61a16b>\u001b[0m in \u001b[0;36m<module>\u001b[1;34m\u001b[0m\n\u001b[1;32m----> 1\u001b[1;33m \u001b[0mobject1\u001b[0m\u001b[1;33m.\u001b[0m\u001b[0mmethod3\u001b[0m\u001b[1;33m(\u001b[0m\u001b[1;33m)\u001b[0m\u001b[1;33m\u001b[0m\u001b[1;33m\u001b[0m\u001b[0m\n\u001b[0m",
      "\u001b[1;31mAttributeError\u001b[0m: 'test1' object has no attribute 'method3'"
     ]
    }
   ],
   "source": [
    "object1.method3()"
   ]
  },
  {
   "cell_type": "code",
   "execution_count": 17,
   "metadata": {},
   "outputs": [],
   "source": [
    "object3=test3()"
   ]
  },
  {
   "cell_type": "code",
   "execution_count": 18,
   "metadata": {},
   "outputs": [
    {
     "name": "stdout",
     "output_type": "stream",
     "text": [
      "Executing code in method 3\n"
     ]
    }
   ],
   "source": [
    "object3.method3()"
   ]
  },
  {
   "cell_type": "code",
   "execution_count": 19,
   "metadata": {},
   "outputs": [
    {
     "name": "stdout",
     "output_type": "stream",
     "text": [
      "Executing code in method 2\n"
     ]
    }
   ],
   "source": [
    "object3.method2()"
   ]
  },
  {
   "cell_type": "code",
   "execution_count": 20,
   "metadata": {},
   "outputs": [
    {
     "name": "stdout",
     "output_type": "stream",
     "text": [
      "Executing code in method 1\n"
     ]
    }
   ],
   "source": [
    "object3.method1()"
   ]
  },
  {
   "cell_type": "code",
   "execution_count": null,
   "metadata": {},
   "outputs": [],
   "source": []
  },
  {
   "cell_type": "code",
   "execution_count": null,
   "metadata": {},
   "outputs": [],
   "source": []
  },
  {
   "cell_type": "code",
   "execution_count": null,
   "metadata": {},
   "outputs": [],
   "source": [
    "syntax:\n",
    "    \n",
    "    \n",
    "class className (names of classes that you want to copy):\n",
    "    #blockOfCode"
   ]
  },
  {
   "cell_type": "code",
   "execution_count": null,
   "metadata": {},
   "outputs": [],
   "source": [
    "reusable code\n",
    "1. Function : the reusable code that is outside of a class\n",
    "2. Method   : the reusable code that is inside of a class"
   ]
  },
  {
   "cell_type": "code",
   "execution_count": null,
   "metadata": {},
   "outputs": [],
   "source": [
    "types of methods:\n",
    "1. Non-constructor method: a) assign a method name apart from __init__\n",
    "                           b) Inorder to run the code inside the non-constructor method, you have to call the class, and then using the object call the non-constructor method\n",
    "2. Constructor method    : a) assign a method name of __init__\n",
    "                            b) Inorder to run the code inside the constructor method, you have to call the class"
   ]
  },
  {
   "cell_type": "code",
   "execution_count": null,
   "metadata": {},
   "outputs": [],
   "source": [
    "object- when you call the class, the class id that is returned is called a object"
   ]
  },
  {
   "cell_type": "code",
   "execution_count": null,
   "metadata": {},
   "outputs": [],
   "source": [
    "All methods need to have a parameter called self\n",
    "1. It helps to operate on the object\n",
    "2. It helps to access the class variable"
   ]
  },
  {
   "cell_type": "code",
   "execution_count": null,
   "metadata": {},
   "outputs": [],
   "source": [
    "The blocks of code for all the statements should follow some guidelines\n",
    "1. My block of code should atleast have one line of code within it\n",
    "2. All the lines in the block of code should have some space before it\n",
    "3. All the lines in the block of code should have the same space before it"
   ]
  },
  {
   "cell_type": "code",
   "execution_count": null,
   "metadata": {},
   "outputs": [],
   "source": [
    "While calling the class follow the below syntax:\n",
    "    \n",
    "className(values for parameters in constructor method apart from self)"
   ]
  },
  {
   "cell_type": "code",
   "execution_count": null,
   "metadata": {},
   "outputs": [],
   "source": []
  },
  {
   "cell_type": "code",
   "execution_count": 34,
   "metadata": {},
   "outputs": [],
   "source": [
    "class Amazon:\n",
    "    def __init__(self,username,password):\n",
    "        if username==\"smit\" and password==\"enter\":\n",
    "            self.a=\"sample text\"\n",
    "            print(\"Login successfully done\")\n",
    "        else:\n",
    "            raise Exception(\"Login not successful\")\n",
    "            \n",
    "    def order_items(self,items):\n",
    "        print(\"You have successfully ordered a \" + items)"
   ]
  },
  {
   "cell_type": "code",
   "execution_count": 35,
   "metadata": {},
   "outputs": [
    {
     "name": "stdout",
     "output_type": "stream",
     "text": [
      "Login successfully done\n"
     ]
    }
   ],
   "source": [
    "object=Amazon(\"smit\",\"enter\")"
   ]
  },
  {
   "cell_type": "code",
   "execution_count": 36,
   "metadata": {},
   "outputs": [
    {
     "name": "stdout",
     "output_type": "stream",
     "text": [
      "You have successfully ordered a laptop\n"
     ]
    }
   ],
   "source": [
    "object.order_items(\"laptop\")"
   ]
  },
  {
   "cell_type": "code",
   "execution_count": 37,
   "metadata": {},
   "outputs": [
    {
     "data": {
      "text/plain": [
       "'sample text'"
      ]
     },
     "execution_count": 37,
     "metadata": {},
     "output_type": "execute_result"
    }
   ],
   "source": [
    "object.a"
   ]
  },
  {
   "cell_type": "code",
   "execution_count": null,
   "metadata": {},
   "outputs": [],
   "source": []
  }
 ],
 "metadata": {
  "kernelspec": {
   "display_name": "Python 3",
   "language": "python",
   "name": "python3"
  },
  "language_info": {
   "codemirror_mode": {
    "name": "ipython",
    "version": 3
   },
   "file_extension": ".py",
   "mimetype": "text/x-python",
   "name": "python",
   "nbconvert_exporter": "python",
   "pygments_lexer": "ipython3",
   "version": "3.8.8"
  }
 },
 "nbformat": 4,
 "nbformat_minor": 4
}
